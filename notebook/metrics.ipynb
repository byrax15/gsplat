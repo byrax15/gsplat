{
 "cells": [
  {
   "cell_type": "code",
   "execution_count": null,
   "id": "900b29b5",
   "metadata": {},
   "outputs": [
    {
     "name": "stdout",
     "output_type": "stream",
     "text": [
      "/home/aq85800/NewVolume/gsplat/quad_cmyk_bg+sh-degree=0/teapot+noobject+nobg+200mocap_bogus32e3+margin0+viewculling16/colmap_47/2025-08-07T15:13-04:00/stats/val_percam_step29999.pt: \n",
      "    Average over views per frame:\n",
      "        psnr avg 65.8775405883789\n",
      "        ssim avg 0.9998672008514404\n",
      "        lpips avg 0.0002249315002700314\n",
      "\n",
      "/home/aq85800/NewVolume/gsplat/quad_cmyk_bg+sh-degree=0/teapot+noobject+nobg+200mocap_bogus32e3+viewculling16/colmap_47/2025-08-07T20:43-04:00/stats/val_percam_step29999.pt: \n",
      "    Average over views per frame:\n",
      "        psnr avg 65.42052459716797\n",
      "        ssim avg 0.9998659491539001\n",
      "        lpips avg 0.0002313396689714864\n",
      "\n"
     ]
    }
   ],
   "source": [
    "import pathlib\n",
    "import torch\n",
    "\n",
    "\n",
    "model = pathlib.Path('/home/aq85800/NewVolume/gsplat/quad_cmyk_bg+sh-degree=0')\n",
    "for frame in sorted(model.glob('*/colmap_47'), key=lambda f: f.name):\n",
    "    try:\n",
    "        last_stats = sorted(frame.glob('*/stats/val_percam_step*.pt'), key=lambda f: f.stat().st_mtime)[-1]\n",
    "    except IndexError:\n",
    "        continue\n",
    "\n",
    "    stats = torch.load(last_stats,weights_only=False)\n",
    "    avg = {}\n",
    "    for k, v in stats.items():\n",
    "        t = torch.stack(v)\n",
    "        t = t[~torch.isinf(t) & ~torch.isnan(t)]\n",
    "        avg[k] = t.mean().item()\n",
    "\n",
    "\n",
    "    print(f\"\"\"{last_stats}: \n",
    "    Average over views per frame:\n",
    "        {f'\\n{\" \"*8}'.join(f'{k} avg {v}' for k,v in avg.items())}\n",
    "\"\"\")\n",
    "\n"
   ]
  }
 ],
 "metadata": {
  "kernelspec": {
   "display_name": "plotenv",
   "language": "python",
   "name": "python3"
  },
  "language_info": {
   "codemirror_mode": {
    "name": "ipython",
    "version": 3
   },
   "file_extension": ".py",
   "mimetype": "text/x-python",
   "name": "python",
   "nbconvert_exporter": "python",
   "pygments_lexer": "ipython3",
   "version": "3.12.9"
  }
 },
 "nbformat": 4,
 "nbformat_minor": 5
}
