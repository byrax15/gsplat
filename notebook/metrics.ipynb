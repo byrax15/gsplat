{
 "cells": [
  {
   "cell_type": "code",
   "execution_count": 6,
   "id": "900b29b5",
   "metadata": {},
   "outputs": [
    {
     "name": "stdout",
     "output_type": "stream",
     "text": [
      "/home/aq85800/NewVolume/gsplat/opacity-target-reg=.1+opacity-target=.5+sigmoid/cloud+small+noobject+nobg+200mocap_bogus32e3+viewculling16/colmap_0/2025-08-11T16:53-04:00/stats/val_percam_step29999.pt:\n",
      "    {'psnr': inf, 'ssim': 0.8101933002471924, 'lpips': 0.11016598343849182, 'ellipse_time': 0.014220209121704101, 'num_GS': 254203}\n",
      "    PSNR no inf no NaN: 21.5344181060791\n",
      "\n",
      "/home/aq85800/NewVolume/gsplat/opacity-target-reg=.1+opacity-target=.5+sigmoid/cube+nobg+200mocap_bogus32e3+viewculling16/colmap_0/2025-08-11T16:53-04:00/stats/val_percam_step29999.pt:\n",
      "    {'psnr': 31.77782440185547, 'ssim': 0.9645218253135681, 'lpips': 0.07844147831201553, 'ellipse_time': 0.003166179656982422, 'num_GS': 97464}\n",
      "    PSNR no inf no NaN: 31.77782440185547\n",
      "\n",
      "/home/aq85800/NewVolume/gsplat/opacity-target-reg=.1+opacity-target=.5+sigmoid/teapot+noobject+nobg+200mocap_bogus32e3+margin0+viewculling16/colmap_0/2025-08-11T16:53-04:00/stats/val_percam_step29999.pt:\n",
      "    {'psnr': inf, 'ssim': 0.9998713731765747, 'lpips': 0.00021658398327417672, 'ellipse_time': 0.013228836059570313, 'num_GS': 1853}\n",
      "    PSNR no inf no NaN: 64.04032897949219\n",
      "\n",
      "/home/aq85800/NewVolume/gsplat/opacity-target-reg=.1+opacity-target=.5+sigmoid/cloud+small+noobject+nobg+200mocap_bogus32e3+viewculling16/colmap_47/2025-08-11T16:53-04:00/stats/val_percam_step29999.pt:\n",
      "    {'psnr': 39.60200119018555, 'ssim': 0.8293665647506714, 'lpips': 0.13326974213123322, 'ellipse_time': 0.014473438262939453, 'num_GS': 297123}\n",
      "    PSNR no inf no NaN: 39.60200119018555\n",
      "\n",
      "/home/aq85800/NewVolume/gsplat/opacity-target-reg=.1+opacity-target=.5+sigmoid/cube+nobg+200mocap_bogus32e3+viewculling16/colmap_47/2025-08-11T16:53-04:00/stats/val_percam_step29999.pt:\n",
      "    {'psnr': 32.036556243896484, 'ssim': 0.9658429026603699, 'lpips': 0.06734297424554825, 'ellipse_time': 0.004235477447509766, 'num_GS': 104301}\n",
      "    PSNR no inf no NaN: 32.036556243896484\n",
      "\n",
      "/home/aq85800/NewVolume/gsplat/opacity-target-reg=.1+opacity-target=.5+sigmoid/fire+smoke+nobject+nobg+200mocap_bogus32e3+viewculling16/colmap_47/2025-08-11T16:53-04:00/stats/val_percam_step29999.pt:\n",
      "    {'psnr': 41.29648971557617, 'ssim': 0.994324266910553, 'lpips': 0.016277389600872993, 'ellipse_time': 0.00765340805053711, 'num_GS': 51799}\n",
      "    PSNR no inf no NaN: 41.29648971557617\n",
      "\n",
      "/home/aq85800/NewVolume/gsplat/opacity-target-reg=.1+opacity-target=.5+sigmoid/teapot+noobject+nobg+200mocap_bogus32e3+margin0+viewculling16/colmap_47/2025-08-11T16:53-04:00/stats/val_percam_step29999.pt:\n",
      "    {'psnr': inf, 'ssim': 0.9997140169143677, 'lpips': 0.0008572984952479601, 'ellipse_time': 0.010412311553955078, 'num_GS': 10217}\n",
      "    PSNR no inf no NaN: 61.27973175048828\n",
      "\n",
      "/home/aq85800/NewVolume/gsplat/opacity-target-reg=.1+opacity-target=.5+sigmoid/teapot+noobject+nobg+200mocap_bogus32e3+viewculling16/colmap_47/2025-08-11T16:53-04:00/stats/val_percam_step29999.pt:\n",
      "    {'psnr': inf, 'ssim': 0.9997182488441467, 'lpips': 0.0008102581487037241, 'ellipse_time': 0.009041299819946289, 'num_GS': 9478}\n",
      "    PSNR no inf no NaN: 61.03528594970703\n",
      "\n"
     ]
    }
   ],
   "source": [
    "import json\n",
    "import pathlib\n",
    "import torch\n",
    "\n",
    "\n",
    "model = pathlib.Path('/home/aq85800/NewVolume/gsplat/opacity-target-reg=.1+opacity-target=.5+sigmoid')\n",
    "for frame in sorted(model.glob('*/colmap_*'), key=lambda f: f.name):\n",
    "    try:\n",
    "        last_stats = sorted(frame.glob('*/stats/val_percam_step*.pt'), key=lambda f: f.stat().st_mtime)[-1]\n",
    "        averages = sorted(last_stats.parent.glob('val_step*.json'), key=lambda f: f.stat().st_mtime)[-1]\n",
    "    except IndexError:\n",
    "        continue\n",
    "\n",
    "    stats = torch.load(last_stats,weights_only=False)\n",
    "    psnrs = torch.stack(stats['psnr'])\n",
    "    psnr_no_inf = psnrs[~torch.isinf(psnrs) & ~torch.isnan(psnrs)].mean().item()\n",
    "\n",
    "    print(f\"\"\"{last_stats}:\n",
    "    {json.load(averages.open())}\n",
    "    PSNR no inf no NaN: {psnr_no_inf}\n",
    "\"\"\")\n",
    "\n"
   ]
  }
 ],
 "metadata": {
  "kernelspec": {
   "display_name": "plotenv",
   "language": "python",
   "name": "python3"
  },
  "language_info": {
   "codemirror_mode": {
    "name": "ipython",
    "version": 3
   },
   "file_extension": ".py",
   "mimetype": "text/x-python",
   "name": "python",
   "nbconvert_exporter": "python",
   "pygments_lexer": "ipython3",
   "version": "3.12.9"
  }
 },
 "nbformat": 4,
 "nbformat_minor": 5
}
